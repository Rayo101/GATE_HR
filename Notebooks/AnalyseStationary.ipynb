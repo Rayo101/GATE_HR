{
 "cells": [
  {
   "cell_type": "markdown",
   "metadata": {},
   "source": [
    "## Stationary data analysis - Simulated Data"
   ]
  },
  {
   "cell_type": "code",
   "execution_count": 22,
   "metadata": {},
   "outputs": [],
   "source": [
    "import numpy as np\n",
    "import matplotlib.pyplot as plt\n",
    "import matplotlib\n",
    "from pept import LineData, Pipeline, PointData\n",
    "from pept.tracking import Stack, HDBSCAN, Cutpoints, SplitLabels, Centroids\n",
    "# from scipy.interpolate import interp1d\n",
    "from skopt import gp_minimize\n",
    "from skopt.space import Real, Integer\n",
    "import sys\n",
    "sys.path.append(\"/home/rayhaan/REPO_HR++/GATE_HR/GeneralScripts/\")\n",
    "from interpolateTime import interpolateUnique\n",
    "from tqdm import tqdm\n",
    "matplotlib.use(\"pgf\")\n",
    "matplotlib.rcParams.update({ # Makes the plots look nice\n",
    "    \"pgf.texsystem\": \"pdflatex\",\n",
    "    'font.family': 'serif',\n",
    "    'text.usetex': True,\n",
    "    'pgf.rcfonts': False,\n",
    "})\n",
    "%matplotlib widget"
   ]
  },
  {
   "cell_type": "markdown",
   "metadata": {},
   "source": [
    "Below function is to read in the raw LORs.  "
   ]
  },
  {
   "cell_type": "code",
   "execution_count": 23,
   "metadata": {},
   "outputs": [],
   "source": [
    "# def loadTruePath(path: str) -> PointData:\n",
    "#     data = np.loadtxt(path, skiprows = 3)\n",
    "#     points = np.array([data[:, 0], data[:, 5], data[:, 6], data[:, 7]]).T\n",
    "#     pData = PointData(points)\n",
    "#     return pData\n",
    "\n",
    "def loadData(path: str) -> LineData:\n",
    "    lines = np.load(path)\n",
    "    rawLines = np.array([lines[:, 6], lines[:, 0], lines[:, 1], lines[:, 2], lines[:, 3], lines[:, 4], lines[:, 5]]).T\n",
    "    lData = LineData(rawLines)\n",
    "    return lData"
   ]
  },
  {
   "cell_type": "code",
   "execution_count": 24,
   "metadata": {},
   "outputs": [],
   "source": [
    "pathToLors = \"/home/rayhaan/REPO_HR++/GATE_HR/NPYOutput/testStationary_XYZ_20_20_20_mm_1mCi_1s_NRW-100_68Ga.npy\"\n",
    "lors = loadData(path = pathToLors)\n",
    "\n",
    "# Interpolation algorithm.  Paper that we worked on.  Improves spatiotemporal resolution.  \n",
    "times = lors['t']\n",
    "newTime = interpolateUnique(msTime = times)\n",
    "lors_2 = LineData(np.c_[newTime, lors.lines[:, 1:7]])"
   ]
  },
  {
   "cell_type": "markdown",
   "metadata": {},
   "source": [
    "This is now what the LORs look like.  "
   ]
  },
  {
   "cell_type": "code",
   "execution_count": 25,
   "metadata": {},
   "outputs": [
    {
     "name": "stdout",
     "output_type": "stream",
     "text": [
      "pept.LineData (samples: 1)\n",
      "--------------------------\n",
      "sample_size = 305965\n",
      "overlap = 0\n",
      "lines = \n",
      "  (rows: 305965, columns: 7)\n",
      "  [[ 0.00000000e+00 -3.92910065e+02 ...  1.88426865e+02 -7.44099998e+00]\n",
      "   [ 3.28947368e-06 -3.82466797e+02 ...  4.12149902e+02 -2.59100008e+00]\n",
      "   ...\n",
      "   [ 1.99563300e+00 -2.04615387e+02 ... -7.37368536e+00  1.09955002e+02]\n",
      "   [ 1.99900000e+00  3.61434143e+02 ... -2.21409485e+02  7.56729965e+01]]\n",
      "columns = ['t', 'x1', 'y1', 'z1', 'x2', 'y2', 'z2']\n",
      "attrs = {}\n",
      "\n"
     ]
    }
   ],
   "source": [
    "print(lors_2)"
   ]
  },
  {
   "cell_type": "markdown",
   "metadata": {},
   "source": [
    "Now lets perform some optimsiation since we know the location.  We want to optimise the tracking parameters.  "
   ]
  },
  {
   "cell_type": "markdown",
   "metadata": {},
   "source": [
    "We know the true location!"
   ]
  },
  {
   "cell_type": "code",
   "execution_count": 26,
   "metadata": {},
   "outputs": [],
   "source": [
    "trueLocation = np.array([20, 20, 20]).astype(np.float32) # X, Y, Z"
   ]
  },
  {
   "cell_type": "markdown",
   "metadata": {},
   "source": [
    "The first function is the error fucntion which will be minimised and the second function actually performs the minimisation of uncertainty by trying to find the optimal tracking parameters for PEPT-ML"
   ]
  },
  {
   "cell_type": "code",
   "execution_count": 27,
   "metadata": {},
   "outputs": [],
   "source": [
    "def errorCalculation(locs: PointData, trueLocation: np.ndarray) -> float:\n",
    "    lenght = len(locs['x'])\n",
    "    uX = np.sum(np.abs(locs['x'] - trueLocation[0]))/lenght\n",
    "    uY = np.sum(np.abs(locs['y'] - trueLocation[0]))/lenght\n",
    "    uZ = np.sum(np.abs(locs['z'] - trueLocation[0]))/lenght\n",
    "\n",
    "    combinedUncertainty = np.sqrt(uX**2 + uY**2 + uZ**2)\n",
    "\n",
    "    return combinedUncertainty\n",
    "\n",
    "\n",
    "def optAllML(lowerLocRate, upperLocRate, Data, trueLocation, totalTime):\n",
    "\n",
    "    # out = []\n",
    "\n",
    "# for i in tqdm(range(len(UsedSampleSizes)-1)):\n",
    "    def ObjectiveML(x):\n",
    "        MLPipe = Pipeline([\n",
    "            Stack(sample_size = x[0], overlap = 0),\n",
    "            Cutpoints(max_distance = 1.0),\n",
    "            HDBSCAN(true_fraction = x[1]),\n",
    "            SplitLabels() + Centroids(),\n",
    "\n",
    "            Stack(sample_size = 5, overlap = 4), \n",
    "            HDBSCAN(true_fraction = x[2]),\n",
    "            SplitLabels() + Centroids(),\n",
    "            Stack()\n",
    "        ])\n",
    "\n",
    "        locs = MLPipe.fit(Data, verbose = True, max_workers = 100)\n",
    "\n",
    "        locRate = len(locs.points)/totalTime\n",
    "\n",
    "        error = errorCalculation(locs = locs, trueLocation = trueLocation)\n",
    "\n",
    "        if (locRate >= lowerLocRate) and (locRate <= upperLocRate):\n",
    "            error = error\n",
    "        else:\n",
    "            error = 10000 + error\n",
    "\n",
    "        print(\"The error is: {} mm, the location rate is: {} kHz\".format(error, locRate))\n",
    "\n",
    "        return error\n",
    "\n",
    "    # The optimisation space!\n",
    "    space = [Integer(250, 300, name = 'SS1'),\n",
    "            # Real(1.0, 3.0, name = 'MD'),\n",
    "            Real(0.1, 0.6, name = 'TF1'),\n",
    "            Real(0.55, 0.65, name = 'TF2'),\n",
    "                    ]\n",
    "\n",
    "    res = gp_minimize(ObjectiveML, space, n_calls = 10, verbose = True, random_state = 254654)\n",
    "\n",
    "    out1 = [res.fun, res.x[0], res.x[1], res.x[2]]\n",
    "\n",
    "    return out1"
   ]
  },
  {
   "cell_type": "code",
   "execution_count": 28,
   "metadata": {},
   "outputs": [
    {
     "name": "stdout",
     "output_type": "stream",
     "text": [
      "Iteration No: 1 started. Evaluating function at random point.\n"
     ]
    },
    {
     "name": "stderr",
     "output_type": "stream",
     "text": [
      "Batch 1 / 2 :: 100%|█████████████████████████████████████████████████████████████████████████████████████████| 1133/1133 [00:06<00:00, 170.15it/s]\n",
      "Batch 2 / 2 :: 100%|████████████████████████████████████████████████████████████████████████████████████████| 1078/1078 [00:01<00:00, 1005.53it/s]\n"
     ]
    },
    {
     "name": "stdout",
     "output_type": "stream",
     "text": [
      "\n",
      "Processed samples in 8.428376197814941 s\n",
      "\n",
      "The error is: 10000.21366108505 mm, the location rate is: 217.0 kHz\n",
      "Iteration No: 1 ended. Evaluation done at random point.\n",
      "Time taken: 8.4314\n",
      "Function value obtained: 10000.2137\n",
      "Current minimum: 10000.2137\n",
      "Iteration No: 2 started. Evaluating function at random point.\n"
     ]
    },
    {
     "name": "stderr",
     "output_type": "stream",
     "text": [
      "Batch 2 / 2 ::  16%|██████████████▏                                                                            | 400/2573 [01:49<09:57,  3.64it/s]\n",
      "Batch 1 / 2 :: 100%|█████████████████████████████████████████████████████████████████████████████████████████| 1190/1190 [00:01<00:00, 821.95it/s]\n",
      "Batch 2 / 2 :: 100%|████████████████████████████████████████████████████████████████████████████████████████| 1148/1148 [00:01<00:00, 1062.15it/s]\n"
     ]
    },
    {
     "name": "stdout",
     "output_type": "stream",
     "text": [
      "\n",
      "Processed samples in 3.7588233947753906 s\n",
      "\n",
      "The error is: 0.16948185000261046 mm, the location rate is: 1090.0 kHz\n",
      "Iteration No: 2 ended. Evaluation done at random point.\n",
      "Time taken: 3.7631\n",
      "Function value obtained: 0.1695\n",
      "Current minimum: 0.1695\n",
      "Iteration No: 3 started. Evaluating function at random point.\n"
     ]
    },
    {
     "name": "stderr",
     "output_type": "stream",
     "text": [
      "Batch 1 / 2 :: 100%|█████████████████████████████████████████████████████████████████████████████████████████| 1190/1190 [00:04<00:00, 271.98it/s]\n",
      "Batch 2 / 2 :: 100%|████████████████████████████████████████████████████████████████████████████████████████| 1133/1133 [00:01<00:00, 1068.00it/s]\n"
     ]
    },
    {
     "name": "stdout",
     "output_type": "stream",
     "text": [
      "\n",
      "Processed samples in 7.3541975021362305 s\n",
      "\n",
      "The error is: 0.16210937412652915 mm, the location rate is: 1058.0 kHz\n",
      "Iteration No: 3 ended. Evaluation done at random point.\n",
      "Time taken: 7.3581\n",
      "Function value obtained: 0.1621\n",
      "Current minimum: 0.1621\n",
      "Iteration No: 4 started. Evaluating function at random point.\n"
     ]
    },
    {
     "name": "stderr",
     "output_type": "stream",
     "text": [
      "Batch 1 / 2 :: 100%|█████████████████████████████████████████████████████████████████████████████████████████| 1112/1112 [00:05<00:00, 199.57it/s]\n",
      "Batch 2 / 2 :: 100%|█████████████████████████████████████████████████████████████████████████████████████████| 1059/1059 [00:02<00:00, 503.27it/s]\n"
     ]
    },
    {
     "name": "stdout",
     "output_type": "stream",
     "text": [
      "\n",
      "Processed samples in 9.253853797912598 s\n",
      "\n",
      "The error is: 10000.222372577964 mm, the location rate is: 165.0 kHz\n",
      "Iteration No: 4 ended. Evaluation done at random point.\n",
      "Time taken: 9.2578\n",
      "Function value obtained: 10000.2224\n",
      "Current minimum: 0.1621\n",
      "Iteration No: 5 started. Evaluating function at random point.\n"
     ]
    },
    {
     "name": "stderr",
     "output_type": "stream",
     "text": [
      "Batch 1 / 2 :: 100%|█████████████████████████████████████████████████████████████████████████████████████████| 1204/1204 [00:03<00:00, 339.79it/s]\n",
      "Batch 2 / 2 :: 100%|████████████████████████████████████████████████████████████████████████████████████████| 1165/1165 [00:01<00:00, 1093.24it/s]\n"
     ]
    },
    {
     "name": "stdout",
     "output_type": "stream",
     "text": [
      "\n",
      "Processed samples in 5.77770209312439 s\n",
      "\n",
      "The error is: 10000.194589193703 mm, the location rate is: 155.0 kHz\n",
      "Iteration No: 5 ended. Evaluation done at random point.\n",
      "Time taken: 5.7813\n",
      "Function value obtained: 10000.1946\n",
      "Current minimum: 0.1621\n",
      "Iteration No: 6 started. Evaluating function at random point.\n"
     ]
    },
    {
     "name": "stderr",
     "output_type": "stream",
     "text": [
      "Batch 1 / 2 :: 100%|█████████████████████████████████████████████████████████████████████████████████████████| 1154/1154 [00:01<00:00, 631.53it/s]\n",
      "Batch 2 / 2 :: 100%|█████████████████████████████████████████████████████████████████████████████████████████| 1124/1124 [00:01<00:00, 777.72it/s]\n"
     ]
    },
    {
     "name": "stdout",
     "output_type": "stream",
     "text": [
      "\n",
      "Processed samples in 5.145186901092529 s\n",
      "\n",
      "The error is: 0.1600615242761934 mm, the location rate is: 1054.0 kHz\n",
      "Iteration No: 6 ended. Evaluation done at random point.\n",
      "Time taken: 5.1492\n",
      "Function value obtained: 0.1601\n",
      "Current minimum: 0.1601\n",
      "Iteration No: 7 started. Evaluating function at random point.\n"
     ]
    },
    {
     "name": "stderr",
     "output_type": "stream",
     "text": [
      "Batch 1 / 2 :: 100%|█████████████████████████████████████████████████████████████████████████████████████████| 1214/1214 [00:01<00:00, 688.13it/s]\n",
      "Batch 2 / 2 :: 100%|████████████████████████████████████████████████████████████████████████████████████████| 1171/1171 [00:01<00:00, 1045.33it/s]\n"
     ]
    },
    {
     "name": "stdout",
     "output_type": "stream",
     "text": [
      "\n",
      "Processed samples in 4.229269742965698 s\n",
      "\n",
      "The error is: 0.16522435505263303 mm, the location rate is: 1096.0 kHz\n",
      "Iteration No: 7 ended. Evaluation done at random point.\n",
      "Time taken: 4.2330\n",
      "Function value obtained: 0.1652\n",
      "Current minimum: 0.1601\n",
      "Iteration No: 8 started. Evaluating function at random point.\n"
     ]
    },
    {
     "name": "stderr",
     "output_type": "stream",
     "text": [
      "Batch 1 / 2 :: 100%|█████████████████████████████████████████████████████████████████████████████████████████| 1104/1104 [00:03<00:00, 333.91it/s]\n",
      "Batch 2 / 2 :: 100%|████████████████████████████████████████████████████████████████████████████████████████| 1065/1065 [00:01<00:00, 1006.46it/s]\n"
     ]
    },
    {
     "name": "stdout",
     "output_type": "stream",
     "text": [
      "\n",
      "Processed samples in 5.392204523086548 s\n",
      "\n",
      "The error is: 0.15611885625860084 mm, the location rate is: 985.0 kHz\n",
      "Iteration No: 8 ended. Evaluation done at random point.\n",
      "Time taken: 5.3978\n",
      "Function value obtained: 0.1561\n",
      "Current minimum: 0.1561\n",
      "Iteration No: 9 started. Evaluating function at random point.\n"
     ]
    },
    {
     "name": "stderr",
     "output_type": "stream",
     "text": [
      "Batch 1 / 2 :: 100%|█████████████████████████████████████████████████████████████████████████████████████████| 1044/1044 [00:03<00:00, 284.04it/s]\n",
      "Batch 2 / 2 :: 100%|█████████████████████████████████████████████████████████████████████████████████████████| 1002/1002 [00:01<00:00, 955.18it/s]\n"
     ]
    },
    {
     "name": "stdout",
     "output_type": "stream",
     "text": [
      "\n",
      "Processed samples in 5.968279600143433 s\n",
      "\n",
      "The error is: 10000.19621260789 mm, the location rate is: 160.0 kHz\n",
      "Iteration No: 9 ended. Evaluation done at random point.\n",
      "Time taken: 5.9739\n",
      "Function value obtained: 10000.1962\n",
      "Current minimum: 0.1561\n",
      "Iteration No: 10 started. Evaluating function at random point.\n"
     ]
    },
    {
     "name": "stderr",
     "output_type": "stream",
     "text": [
      "Batch 1 / 2 :: 100%|█████████████████████████████████████████████████████████████████████████████████████████| 1096/1096 [00:04<00:00, 248.10it/s]\n",
      "Batch 2 / 2 :: 100%|████████████████████████████████████████████████████████████████████████████████████████| 1043/1043 [00:01<00:00, 1001.74it/s]\n"
     ]
    },
    {
     "name": "stdout",
     "output_type": "stream",
     "text": [
      "\n",
      "Processed samples in 7.2448155879974365 s\n",
      "\n",
      "The error is: 10000.206018833276 mm, the location rate is: 139.0 kHz\n",
      "Iteration No: 10 ended. Evaluation done at random point.\n",
      "Time taken: 7.7319\n",
      "Function value obtained: 10000.2060\n",
      "Current minimum: 0.1561\n"
     ]
    }
   ],
   "source": [
    "optimalParameters = optAllML(lowerLocRate = 900, upperLocRate = 1100, Data = lors_2, trueLocation = trueLocation, totalTime = 1.0)"
   ]
  },
  {
   "cell_type": "markdown",
   "metadata": {},
   "source": [
    "Great!  The tracking parameters are now optimised enough.  Enough in that we have the location rate we're looking for (+- 1.0 kHz) and the tracking parrameters that minimise the error around that location rate.  This was performed with the use of Gaussian processes since a grid based approach would take forever.  "
   ]
  },
  {
   "cell_type": "code",
   "execution_count": 30,
   "metadata": {},
   "outputs": [
    {
     "name": "stdout",
     "output_type": "stream",
     "text": [
      "The optimal Tracking Parameters are:\n",
      "SS1 = 0.15611885625860084\n",
      "TF1 = 277\n",
      "TF1 = 0.3379744086916586\n"
     ]
    }
   ],
   "source": [
    "print(\"The optimal Tracking Parameters are:\")\n",
    "Params = [\"SS1\", \"TF1\", \"TF1\"]\n",
    "for i in range(len(Params)):\n",
    "    print(\"{} = {}\".format(Params[i], optimalParameters[i]))"
   ]
  },
  {
   "cell_type": "markdown",
   "metadata": {},
   "source": [
    "Now lets track using these optimal parameters!"
   ]
  },
  {
   "cell_type": "code",
   "execution_count": 32,
   "metadata": {},
   "outputs": [],
   "source": [
    "MLPipeOpt = Pipeline([\n",
    "            Stack(sample_size = optimalParameters[1], overlap = 0),\n",
    "            Cutpoints(max_distance = 3.0),\n",
    "            HDBSCAN(true_fraction = optimalParameters[2]),\n",
    "            SplitLabels() + Centroids(),\n",
    "\n",
    "            Stack(sample_size = 5, overlap = 4), \n",
    "            HDBSCAN(true_fraction = optimalParameters[3]),\n",
    "            SplitLabels() + Centroids(),\n",
    "            Stack()\n",
    "        ])"
   ]
  },
  {
   "cell_type": "code",
   "execution_count": 33,
   "metadata": {},
   "outputs": [
    {
     "name": "stderr",
     "output_type": "stream",
     "text": [
      "Batch 1 / 2 :: 100%|██████████████████████████████████████████████████████████████████████████████████████████| 1104/1104 [00:16<00:00, 67.68it/s]\n",
      "Batch 2 / 2 :: 100%|████████████████████████████████████████████████████████████████████████████████████████| 1063/1063 [00:00<00:00, 1077.78it/s]\n"
     ]
    },
    {
     "name": "stdout",
     "output_type": "stream",
     "text": [
      "\n",
      "Processed samples in 21.265925884246826 s\n",
      "\n"
     ]
    }
   ],
   "source": [
    "locations = MLPipeOpt.fit(lors_2, max_workers = 100, verbose = True)"
   ]
  },
  {
   "cell_type": "markdown",
   "metadata": {},
   "source": [
    "Awesome!  Now we have our locations.  At this point we can do whatever we want with the locations now.  let's visualise the locations"
   ]
  },
  {
   "cell_type": "code",
   "execution_count": 59,
   "metadata": {},
   "outputs": [
    {
     "data": {
      "application/vnd.jupyter.widget-view+json": {
       "model_id": "22c6bf8d62344b65be0f7833e7f19048",
       "version_major": 2,
       "version_minor": 0
      },
      "image/png": "[encoded data removed]",
      "text/html": [
       "\n",
       "            <div style=\"display: inline-block;\">\n",
       "                <div class=\"jupyter-widgets widget-label\" style=\"text-align: center;\">\n",
       "                    Figure\n",
       "                </div>\n",
       "                <img src='data:image/png;base64,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' width=600.0/>\n",
       "            </div>\n",
       "        "
      ],
      "text/plain": [
       "Canvas(toolbar=Toolbar(toolitems=[('Home', 'Reset original view', 'home', 'home'), ('Back', 'Back to previous …"
      ]
     },
     "metadata": {},
     "output_type": "display_data"
    }
   ],
   "source": [
    "plt.close(\"all\")\n",
    "fig, (ax1, ax2, ax3) = plt.subplots(3, 1, figsize = (6, 5), sharex = \"col\", sharey = \"col\")\n",
    "\n",
    "s = 20\n",
    "\n",
    "ax1.scatter(locations['t'], locations['x'], s = 1, color = 'k', label = \"Tracked locations\")\n",
    "ax2.scatter(locations['t'], locations['y'], s = 1, color = 'k', label = \"Tracked locations\")\n",
    "ax3.scatter(locations['t'], locations['z'], s = 1, color = 'k', label = \"Tracked locations\")\n",
    "\n",
    "ax1.hlines(y = 20.0, xmin = -0.5, xmax = 1.5, color = 'r', lw = 2, label = \"True location\")\n",
    "ax2.hlines(y = 20.0, xmin = -0.5, xmax = 1.5, color = 'r', lw = 2, label = \"True location\")\n",
    "ax3.hlines(y = 20.0, xmin = -0.5, xmax = 1.5, color = 'r', lw = 2, label = \"True location\")\n",
    "\n",
    "ax1.legend(loc = \"upper left\", fontsize = s - 6)\n",
    "ax2.legend(loc = \"upper left\", fontsize = s - 6)\n",
    "ax3.legend(loc = \"upper left\", fontsize = s - 6)\n",
    "\n",
    "\n",
    "ax1.get_xaxis().set_tick_params(direction = \"in\", which = \"both\", top = True)\n",
    "ax1.get_yaxis().set_tick_params(direction = \"in\", which = \"both\", right = True)\n",
    "ax2.get_xaxis().set_tick_params(direction = \"in\", which = \"both\", top = True)\n",
    "ax2.get_yaxis().set_tick_params(direction = \"in\", which = \"both\", right = True)\n",
    "ax3.get_xaxis().set_tick_params(direction = \"in\", which = \"both\", top = True)\n",
    "ax3.get_yaxis().set_tick_params(direction = \"in\", which = \"both\", right = True)\n",
    "\n",
    "ax1.tick_params(axis=\"x\", labelsize = s - 2) \n",
    "ax1.tick_params(axis=\"y\", labelsize = s - 2)\n",
    "ax2.tick_params(axis=\"x\", labelsize = s - 2) \n",
    "ax2.tick_params(axis=\"y\", labelsize = s - 2)\n",
    "ax3.tick_params(axis=\"x\", labelsize = s - 2) \n",
    "ax3.tick_params(axis=\"y\", labelsize = s - 2)\n",
    "\n",
    "ax1.set_xlim(-0.02, 1.02)\n",
    "ax1.set_ylim(19.6, 21.6)\n",
    "\n",
    "ax3.set_xlabel(r\"$t$ (s)\", fontsize = s)\n",
    "\n",
    "ax1.set_ylabel(r\"$X$ (mm)\", fontsize = s)\n",
    "ax2.set_ylabel(r\"$Y$ (mm)\", fontsize = s)\n",
    "ax3.set_ylabel(r\"$Z$ (mm)\", fontsize = s)\n",
    "\n",
    "fig.tight_layout()\n",
    "# fig.savefig(\"/home/rayhaan/REPO_HR++/GATE_HR/Notebooks/StationaryTest.png\", dpi = 300)\n"
   ]
  },
  {
   "cell_type": "markdown",
   "metadata": {},
   "source": [
    "You can now do whatever you want.  You could quantify the spread in the stationary location by histogramming the locations and fitting a Gaussian to the histogram data.  "
   ]
  }
 ],
 "metadata": {
  "kernelspec": {
   "display_name": "Python 3 (ipykernel)",
   "language": "python",
   "name": "python3"
  },
  "language_info": {
   "codemirror_mode": {
    "name": "ipython",
    "version": 3
   },
   "file_extension": ".py",
   "mimetype": "text/x-python",
   "name": "python",
   "nbconvert_exporter": "python",
   "pygments_lexer": "ipython3",
   "version": "3.8.10"
  }
 },
 "nbformat": 4,
 "nbformat_minor": 2
}
